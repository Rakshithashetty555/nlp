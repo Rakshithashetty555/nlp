{
  "nbformat": 4,
  "nbformat_minor": 0,
  "metadata": {
    "colab": {
      "provenance": [],
      "gpuType": "T4",
      "include_colab_link": true
    },
    "kernelspec": {
      "name": "python3",
      "display_name": "Python 3"
    },
    "language_info": {
      "name": "python"
    },
    "accelerator": "GPU"
  },
  "cells": [
    {
      "cell_type": "markdown",
      "metadata": {
        "id": "view-in-github",
        "colab_type": "text"
      },
      "source": [
        "<a href=\"https://colab.research.google.com/github/Rakshithashetty555/nlp/blob/main/mlalgo.ipynb\" target=\"_parent\"><img src=\"https://colab.research.google.com/assets/colab-badge.svg\" alt=\"Open In Colab\"/></a>"
      ]
    },
    {
      "cell_type": "markdown",
      "source": [
        "**1.Data Loading and Preprocessing**"
      ],
      "metadata": {
        "id": "A_6a47vjgipl"
      }
    },
    {
      "cell_type": "code",
      "source": [
        "import pandas as pd\n",
        "import re\n",
        "import numpy as np\n",
        "import nltk\n",
        "from nltk.corpus import stopwords\n",
        "\n",
        "# Load the dataset\n",
        "file_path = \"/content/Transcribed_Speech_Dataset (2).csv\"\n",
        "df = pd.read_csv(file_path)\n",
        "\n",
        "# Display basic info\n",
        "print(\"Dataset Preview:\")\n",
        "print(df.head())\n",
        "print(\"\\nDataset Info:\")\n",
        "print(df.info())\n",
        "\n",
        "# Check for missing values\n",
        "print(\"\\nMissing Values:\")\n",
        "print(df.isnull().sum())\n",
        "\n",
        "# Download stopwords\n",
        "nltk.download(\"stopwords\")\n",
        "stop_words = set(stopwords.words(\"english\"))\n",
        "\n",
        "def clean_text(text):\n",
        "    if isinstance(text, str):\n",
        "        text = re.sub(r\"[^a-zA-Z\\s]\", \"\", text, re.I | re.A)  # Remove non-alphabetic characters\n",
        "        text = text.lower()  # Convert to lowercase\n",
        "        text = \" \".join(word for word in text.split() if word not in stop_words)  # Remove stopwords\n",
        "    return text\n",
        "\n",
        "# Apply text cleaning\n",
        "df[\"cleaned_text\"] = df[\"Transcribed Speech\"].apply(clean_text)\n",
        "\n",
        "# Generate NLP-based features\n",
        "def generate_nlp_features(df):\n",
        "    df[\"char_count\"] = df[\"cleaned_text\"].apply(len)\n",
        "    df[\"word_count\"] = df[\"cleaned_text\"].apply(lambda x: len(x.split()))\n",
        "    df[\"avg_word_length\"] = df[\"cleaned_text\"].apply(lambda x: np.mean([len(word) for word in x.split()]) if x else 0)\n",
        "    df[\"stopword_count\"] = df[\"cleaned_text\"].apply(lambda x: len([word for word in x.split() if word in stop_words]))\n",
        "    df[\"htag_count\"] = df[\"Transcribed Speech\"].apply(lambda x: x.count(\"#\"))\n",
        "    return df\n",
        "\n",
        "# Generate features\n",
        "df = generate_nlp_features(df)\n",
        "\n",
        "# Display feature preview\n",
        "print(\"\\nNLP Features Preview:\")\n",
        "print(df[[\"char_count\", \"word_count\", \"avg_word_length\", \"stopword_count\", \"htag_count\"]].head())\n"
      ],
      "metadata": {
        "id": "rw7flfttCweO",
        "colab": {
          "base_uri": "https://localhost:8080/"
        },
        "outputId": "a56f73e6-5f94-4e3f-c126-7cc1212cb9ee"
      },
      "execution_count": null,
      "outputs": [
        {
          "output_type": "stream",
          "name": "stdout",
          "text": [
            "Dataset Preview:\n",
            "                                  Transcribed Speech          Topic\n",
            "0  With the increasing number of cyberattacks, co...  Cybersecurity\n",
            "1  Environmental conservation efforts are becomin...    Environment\n",
            "2  The stock market is highly dynamic, influenced...   Stock Market\n",
            "3  Political landscapes continue to evolve as gov...       Politics\n",
            "4  Scientific advancements are constantly reshapi...        Science\n",
            "\n",
            "Dataset Info:\n",
            "<class 'pandas.core.frame.DataFrame'>\n",
            "RangeIndex: 1000 entries, 0 to 999\n",
            "Data columns (total 2 columns):\n",
            " #   Column              Non-Null Count  Dtype \n",
            "---  ------              --------------  ----- \n",
            " 0   Transcribed Speech  1000 non-null   object\n",
            " 1   Topic               1000 non-null   object\n",
            "dtypes: object(2)\n",
            "memory usage: 15.8+ KB\n",
            "None\n",
            "\n",
            "Missing Values:\n",
            "Transcribed Speech    0\n",
            "Topic                 0\n",
            "dtype: int64\n",
            "\n",
            "NLP Features Preview:\n",
            "   char_count  word_count  avg_word_length  stopword_count  htag_count\n",
            "0         311          32         8.750000               0           0\n",
            "1         306          31         8.903226               0           0\n",
            "2         309          38         7.157895               0           0\n",
            "3         291          35         7.342857               0           0\n",
            "4         273          29         8.448276               0           0\n"
          ]
        },
        {
          "output_type": "stream",
          "name": "stderr",
          "text": [
            "[nltk_data] Downloading package stopwords to /root/nltk_data...\n",
            "[nltk_data]   Unzipping corpora/stopwords.zip.\n"
          ]
        }
      ]
    },
    {
      "cell_type": "markdown",
      "source": [
        "**2.Perform Exploratory Data Analysis**"
      ],
      "metadata": {
        "id": "wbYhaVVchY-5"
      }
    },
    {
      "cell_type": "code",
      "source": [
        "import matplotlib.pyplot as plt\n",
        "import seaborn as sns\n",
        "\n",
        "# Display dataset info\n",
        "print(\"\\nDataset Info:\")\n",
        "print(df.info())\n",
        "\n",
        "# Check unique topics and their distribution\n",
        "print(\"\\nUnique Topics Count:\", df[\"Topic\"].nunique())\n",
        "print(df[\"Topic\"].value_counts())\n",
        "\n",
        "# Visualize topic distribution\n",
        "plt.figure(figsize=(10, 5))\n",
        "sns.countplot(y=df[\"Topic\"], order=df[\"Topic\"].value_counts().index, palette=\"viridis\")\n",
        "plt.title(\"Distribution of Topics\")\n",
        "plt.xlabel(\"Count\")\n",
        "plt.ylabel(\"Topics\")\n",
        "plt.show()\n",
        "\n",
        "# Check for missing values\n",
        "print(\"\\nMissing Values:\")\n",
        "print(df.isnull().sum())\n"
      ],
      "metadata": {
        "id": "7b7VmmTBfRVt",
        "colab": {
          "base_uri": "https://localhost:8080/",
          "height": 1000
        },
        "outputId": "76586736-2e69-459f-fe23-91266f5cdbfd"
      },
      "execution_count": null,
      "outputs": [
        {
          "output_type": "stream",
          "name": "stdout",
          "text": [
            "\n",
            "Dataset Info:\n",
            "<class 'pandas.core.frame.DataFrame'>\n",
            "RangeIndex: 1000 entries, 0 to 999\n",
            "Data columns (total 8 columns):\n",
            " #   Column              Non-Null Count  Dtype  \n",
            "---  ------              --------------  -----  \n",
            " 0   Transcribed Speech  1000 non-null   object \n",
            " 1   Topic               1000 non-null   object \n",
            " 2   cleaned_text        1000 non-null   object \n",
            " 3   char_count          1000 non-null   int64  \n",
            " 4   word_count          1000 non-null   int64  \n",
            " 5   avg_word_length     1000 non-null   float64\n",
            " 6   stopword_count      1000 non-null   int64  \n",
            " 7   htag_count          1000 non-null   int64  \n",
            "dtypes: float64(1), int64(4), object(3)\n",
            "memory usage: 62.6+ KB\n",
            "None\n",
            "\n",
            "Unique Topics Count: 7\n",
            "Topic\n",
            "Software Engineering    153\n",
            "Politics                150\n",
            "Science                 149\n",
            "Stock Market            140\n",
            "Environment             139\n",
            "Climate                 138\n",
            "Cybersecurity           131\n",
            "Name: count, dtype: int64\n"
          ]
        },
        {
          "output_type": "stream",
          "name": "stderr",
          "text": [
            "<ipython-input-6-b8bbc0278e46>:14: FutureWarning: \n",
            "\n",
            "Passing `palette` without assigning `hue` is deprecated and will be removed in v0.14.0. Assign the `y` variable to `hue` and set `legend=False` for the same effect.\n",
            "\n",
            "  sns.countplot(y=df[\"Topic\"], order=df[\"Topic\"].value_counts().index, palette=\"viridis\")\n"
          ]
        },
        {
          "output_type": "display_data",
          "data": {
            "text/plain": [
              "<Figure size 1000x500 with 1 Axes>"
            ],
            "image/png": "[encoded data removed]"
          },
          "metadata": {}
        },
        {
          "output_type": "stream",
          "name": "stdout",
          "text": [
            "\n",
            "Missing Values:\n",
            "Transcribed Speech    0\n",
            "Topic                 0\n",
            "cleaned_text          0\n",
            "char_count            0\n",
            "word_count            0\n",
            "avg_word_length       0\n",
            "stopword_count        0\n",
            "htag_count            0\n",
            "dtype: int64\n"
          ]
        }
      ]
    },
    {
      "cell_type": "code",
      "source": [
        "!pip install fasttext"
      ],
      "metadata": {
        "id": "cTZMnCLIFpyJ",
        "colab": {
          "base_uri": "https://localhost:8080/"
        },
        "outputId": "bd483d4c-9fcf-4deb-8fc1-b3f51eb8aa10"
      },
      "execution_count": null,
      "outputs": [
        {
          "output_type": "stream",
          "name": "stdout",
          "text": [
            "Collecting fasttext\n",
            "  Downloading fasttext-0.9.3.tar.gz (73 kB)\n",
            "\u001b[?25l     \u001b[90m━━━━━━━━━━━━━━━━━━━━━━━━━━━━━━━━━━━━━━━━\u001b[0m \u001b[32m0.0/73.4 kB\u001b[0m \u001b[31m?\u001b[0m eta \u001b[36m-:--:--\u001b[0m\r\u001b[2K     \u001b[90m━━━━━━━━━━━━━━━━━━━━━━━━━━━━━━━━━━━━━━━━\u001b[0m \u001b[32m73.4/73.4 kB\u001b[0m \u001b[31m2.9 MB/s\u001b[0m eta \u001b[36m0:00:00\u001b[0m\n",
            "\u001b[?25h  Installing build dependencies ... \u001b[?25l\u001b[?25hdone\n",
            "  Getting requirements to build wheel ... \u001b[?25l\u001b[?25hdone\n",
            "  Preparing metadata (pyproject.toml) ... \u001b[?25l\u001b[?25hdone\n",
            "Collecting pybind11>=2.2 (from fasttext)\n",
            "  Using cached pybind11-2.13.6-py3-none-any.whl.metadata (9.5 kB)\n",
            "Requirement already satisfied: setuptools>=0.7.0 in /usr/local/lib/python3.11/dist-packages (from fasttext) (75.1.0)\n",
            "Requirement already satisfied: numpy in /usr/local/lib/python3.11/dist-packages (from fasttext) (1.26.4)\n",
            "Using cached pybind11-2.13.6-py3-none-any.whl (243 kB)\n",
            "Building wheels for collected packages: fasttext\n",
            "  Building wheel for fasttext (pyproject.toml) ... \u001b[?25l\u001b[?25hdone\n",
            "  Created wheel for fasttext: filename=fasttext-0.9.3-cp311-cp311-linux_x86_64.whl size=4313460 sha256=8000dcf0d0e7a8d267588b4806475a7691b33348ee6c6d344e28522a65b3ae26\n",
            "  Stored in directory: /root/.cache/pip/wheels/65/4f/35/5057db0249224e9ab55a513fa6b79451473ceb7713017823c3\n",
            "Successfully built fasttext\n",
            "Installing collected packages: pybind11, fasttext\n",
            "Successfully installed fasttext-0.9.3 pybind11-2.13.6\n"
          ]
        }
      ]
    },
    {
      "cell_type": "markdown",
      "source": [
        "**3.Feature Extraction (BoW, TF-IDF, FastText)**"
      ],
      "metadata": {
        "id": "raaPsrJfhfws"
      }
    },
    {
      "cell_type": "code",
      "source": [
        "from sklearn.feature_extraction.text import CountVectorizer, TfidfVectorizer\n",
        "import fasttext\n",
        "import urllib.request\n",
        "import gzip\n",
        "import shutil\n",
        "\n",
        "# Bag of Words (BoW)\n",
        "bow_vectorizer = CountVectorizer(max_features=5000)\n",
        "X_bow = bow_vectorizer.fit_transform(df['cleaned_text'])\n",
        "\n",
        "# TF-IDF\n",
        "tfidf_vectorizer = TfidfVectorizer(max_features=5000)\n",
        "X_tfidf = tfidf_vectorizer.fit_transform(df['cleaned_text'])\n",
        "\n",
        "# Download and load FastText model\n",
        "url = \"https://dl.fbaipublicfiles.com/fasttext/vectors-crawl/cc.en.300.bin.gz\"\n",
        "urllib.request.urlretrieve(url, \"cc.en.300.bin.gz\")\n",
        "\n",
        "# Unzip the model\n",
        "with gzip.open(\"cc.en.300.bin.gz\", 'rb') as f_in:\n",
        "    with open(\"cc.en.300.bin\", 'wb') as f_out:\n",
        "        shutil.copyfileobj(f_in, f_out)\n",
        "\n",
        "ft_model = fasttext.load_model('cc.en.300.bin')\n",
        "\n",
        "# Function to get FastText embeddings\n",
        "def get_fasttext_embeddings(text):\n",
        "    words = text.split()\n",
        "    word_vectors = [ft_model.get_word_vector(word) for word in words if word in ft_model]\n",
        "    return np.mean(word_vectors, axis=0) if word_vectors else np.zeros(ft_model.get_dimension())\n",
        "\n",
        "# Apply FastText embeddings to each row\n",
        "df['fasttext_embeddings'] = df['cleaned_text'].apply(get_fasttext_embeddings)\n",
        "\n",
        "# Convert FastText embeddings to a NumPy array\n",
        "X_fasttext = np.vstack(df['fasttext_embeddings'].values)\n",
        "\n",
        "# Check shapes\n",
        "print(f'BoW Shape: {X_bow.shape}')\n",
        "print(f'TFIDF Shape: {X_tfidf.shape}')\n",
        "print(f'FastText Shape: {X_fasttext.shape}')\n"
      ],
      "metadata": {
        "id": "CwASICCiCx9E",
        "colab": {
          "base_uri": "https://localhost:8080/"
        },
        "outputId": "29f9ffac-36ac-4b36-e5ce-cb89a27cec9d"
      },
      "execution_count": null,
      "outputs": [
        {
          "output_type": "stream",
          "name": "stdout",
          "text": [
            "BoW Shape: (1000, 1193)\n",
            "TFIDF Shape: (1000, 1193)\n",
            "FastText Shape: (1000, 300)\n"
          ]
        }
      ]
    },
    {
      "cell_type": "markdown",
      "source": [
        "**4.Model Training and Testing**"
      ],
      "metadata": {
        "id": "03VdZ-lZhwW_"
      }
    },
    {
      "cell_type": "code",
      "source": [
        "from sklearn.model_selection import train_test_split\n",
        "from sklearn.ensemble import RandomForestClassifier\n",
        "from sklearn.svm import SVC\n",
        "from sklearn.linear_model import LogisticRegression\n",
        "from sklearn.neighbors import KNeighborsClassifier\n",
        "from sklearn.naive_bayes import MultinomialNB\n",
        "from sklearn.metrics import accuracy_score\n",
        "\n",
        "# Prepare the target column\n",
        "target_column = 'Topic'  # Ensure this is the correct column name\n",
        "df = df.dropna(subset=[target_column])\n",
        "X = df[['char_count', 'word_count', 'avg_word_length', 'stopword_count', 'htag_count']]\n",
        "y = df[target_column]\n",
        "\n",
        "# Train-test split\n",
        "X_train, X_test, y_train, y_test = train_test_split(X, y, test_size=0.2, random_state=42)\n",
        "\n",
        "# Supervised learning models\n",
        "models = {\n",
        "    \"Random Forest\": RandomForestClassifier(),\n",
        "    \"SVM\": SVC(),\n",
        "    \"Logistic Regression\": LogisticRegression(),\n",
        "    \"KNN\": KNeighborsClassifier(),\n",
        "    \"Naive Bayes\": MultinomialNB()\n",
        "}\n",
        "\n",
        "# Evaluate each model\n",
        "results = []\n",
        "for model_name, model in models.items():\n",
        "    model.fit(X_train, y_train)\n",
        "    y_pred = model.predict(X_test)\n",
        "    accuracy = accuracy_score(y_test, y_pred)\n",
        "    results.append([model_name, accuracy])\n",
        "\n",
        "# Display results in tabular format\n",
        "import pandas as pd\n",
        "results_df = pd.DataFrame(results, columns=[\"Model\", \"Accuracy\"])\n",
        "print(\"\\nModel Evaluation Results:\")\n",
        "print(results_df)\n"
      ],
      "metadata": {
        "id": "B5QjD4BvDR5E",
        "colab": {
          "base_uri": "https://localhost:8080/"
        },
        "outputId": "ff5d5d0c-4b8a-4de8-8939-ebb4b0b168bd"
      },
      "execution_count": null,
      "outputs": [
        {
          "output_type": "stream",
          "name": "stdout",
          "text": [
            "\n",
            "Model Evaluation Results:\n",
            "                 Model  Accuracy\n",
            "0        Random Forest     0.950\n",
            "1                  SVM     0.390\n",
            "2  Logistic Regression     0.770\n",
            "3                  KNN     0.955\n",
            "4          Naive Bayes     0.355\n"
          ]
        },
        {
          "output_type": "stream",
          "name": "stderr",
          "text": [
            "/usr/local/lib/python3.11/dist-packages/sklearn/linear_model/_logistic.py:465: ConvergenceWarning: lbfgs failed to converge (status=1):\n",
            "STOP: TOTAL NO. of ITERATIONS REACHED LIMIT.\n",
            "\n",
            "Increase the number of iterations (max_iter) or scale the data as shown in:\n",
            "    https://scikit-learn.org/stable/modules/preprocessing.html\n",
            "Please also refer to the documentation for alternative solver options:\n",
            "    https://scikit-learn.org/stable/modules/linear_model.html#logistic-regression\n",
            "  n_iter_i = _check_optimize_result(\n"
          ]
        }
      ]
    },
    {
      "cell_type": "markdown",
      "source": [
        "**5.Text Feature Extraction(BoW, TF-IDF, and FastText Embeddings)**"
      ],
      "metadata": {
        "id": "kIhuRv3QilU1"
      }
    },
    {
      "cell_type": "code",
      "source": [
        "from sklearn.feature_extraction.text import CountVectorizer, TfidfVectorizer\n",
        "import fasttext\n",
        "import urllib.request\n",
        "import gzip\n",
        "import shutil\n",
        "import numpy as np # Import numpy to use vstack later\n",
        "\n",
        "# Assume df is already loaded and preprocessed as in previous steps\n",
        "\n",
        "# Bag of Words (BoW)\n",
        "bow_vectorizer = CountVectorizer(max_features=5000)\n",
        "X_bow = bow_vectorizer.fit_transform(df['cleaned_text'])\n",
        "\n",
        "# TF-IDF\n",
        "tfidf_vectorizer = TfidfVectorizer(max_features=5000)\n",
        "X_tfidf = tfidf_vectorizer.fit_transform(df['cleaned_text'])\n",
        "\n",
        "# ... (rest of the code to create X_fasttext, models, y_train, y_test)"
      ],
      "metadata": {
        "id": "XKXAYtaHJd78"
      },
      "execution_count": null,
      "outputs": []
    },
    {
      "cell_type": "markdown",
      "source": [
        "**6.Model Evaluation**"
      ],
      "metadata": {
        "id": "_021NkFqjCfz"
      }
    },
    {
      "cell_type": "code",
      "source": [
        "from sklearn.model_selection import train_test_split # Import the necessary module\n",
        "from sklearn.metrics import accuracy_score\n",
        "from scipy.sparse import hstack\n",
        "\n",
        "# Evaluate models with BoW features\n",
        "X_train_bow, X_test_bow, y_train, y_test = train_test_split(X_bow, y, test_size=0.2, random_state=42)\n",
        "for model_name, model in models.items():\n",
        "    model.fit(X_train_bow, y_train)\n",
        "    y_pred = model.predict(X_test_bow)\n",
        "    print(f'{model_name} Accuracy (BoW): {accuracy_score(y_test, y_pred):.4f}')\n",
        "\n",
        "# Evaluate models with TFIDF features\n",
        "X_train_tfidf, X_test_tfidf, y_train, y_test = train_test_split(X_tfidf, y, test_size=0.2, random_state=42)\n",
        "for model_name, model in models.items():\n",
        "    model.fit(X_train_tfidf, y_train)\n",
        "    y_pred = model.predict(X_test_tfidf)\n",
        "    print(f'{model_name} Accuracy (TFIDF): {accuracy_score(y_test, y_pred):.4f}')\n",
        "\n",
        "X_fasttext = np.abs(X_fasttext)\n",
        "# Take the absolute value of all elements in X_fasttext before training\n",
        "X_train_fasttext, X_test_fasttext, y_train, y_test = train_test_split(X_fasttext, y, test_size=0.2, random_state=42)\n",
        "for model_name, model in models.items():\n",
        "    model.fit(X_train_fasttext, y_train)\n",
        "    y_pred = model.predict(X_test_fasttext)\n",
        "    print(f'{model_name} Accuracy (FastText): {accuracy_score(y_test, y_pred):.4f}')\n",
        "\n",
        "# Combined features (NLP + TFIDF)\n",
        "X_nlp = df[['char_count', 'word_count', 'avg_word_length', 'stopword_count', 'htag_count']].values\n",
        "X_combined = hstack([X_nlp, X_tfidf])\n",
        "X_train_combined, X_test_combined, y_train, y_test = train_test_split(X_combined, y, test_size=0.2, random_state=42)\n",
        "\n",
        "for model_name, model in models.items():\n",
        "    model.fit(X_train_combined, y_train)\n",
        "    y_pred = model.predict(X_test_combined)\n",
        "    print(f'{model_name} Accuracy (Combined Features): {accuracy_score(y_test, y_pred):.4f}')"
      ],
      "metadata": {
        "id": "cQJ69DIcD6XJ",
        "colab": {
          "base_uri": "https://localhost:8080/"
        },
        "outputId": "ed34a07f-b54c-434b-e67d-2dd7b3c4db30"
      },
      "execution_count": null,
      "outputs": [
        {
          "output_type": "stream",
          "name": "stdout",
          "text": [
            "Random Forest Accuracy (BoW): 1.0000\n",
            "SVM Accuracy (BoW): 1.0000\n",
            "Logistic Regression Accuracy (BoW): 1.0000\n",
            "KNN Accuracy (BoW): 1.0000\n",
            "Naive Bayes Accuracy (BoW): 1.0000\n",
            "Random Forest Accuracy (TFIDF): 1.0000\n",
            "SVM Accuracy (TFIDF): 1.0000\n",
            "Logistic Regression Accuracy (TFIDF): 1.0000\n",
            "KNN Accuracy (TFIDF): 1.0000\n",
            "Naive Bayes Accuracy (TFIDF): 1.0000\n",
            "Random Forest Accuracy (FastText): 1.0000\n",
            "SVM Accuracy (FastText): 1.0000\n",
            "Logistic Regression Accuracy (FastText): 1.0000\n",
            "KNN Accuracy (FastText): 1.0000\n",
            "Naive Bayes Accuracy (FastText): 1.0000\n",
            "Random Forest Accuracy (Combined Features): 1.0000\n",
            "SVM Accuracy (Combined Features): 0.3850\n",
            "Logistic Regression Accuracy (Combined Features): 1.0000\n",
            "KNN Accuracy (Combined Features): 0.9950\n",
            "Naive Bayes Accuracy (Combined Features): 1.0000\n"
          ]
        },
        {
          "output_type": "stream",
          "name": "stderr",
          "text": [
            "/usr/local/lib/python3.11/dist-packages/sklearn/linear_model/_logistic.py:465: ConvergenceWarning: lbfgs failed to converge (status=1):\n",
            "STOP: TOTAL NO. of ITERATIONS REACHED LIMIT.\n",
            "\n",
            "Increase the number of iterations (max_iter) or scale the data as shown in:\n",
            "    https://scikit-learn.org/stable/modules/preprocessing.html\n",
            "Please also refer to the documentation for alternative solver options:\n",
            "    https://scikit-learn.org/stable/modules/linear_model.html#logistic-regression\n",
            "  n_iter_i = _check_optimize_result(\n"
          ]
        }
      ]
    },
    {
      "cell_type": "markdown",
      "source": [
        "**7.Output**"
      ],
      "metadata": {
        "id": "d2ComdAJjTSx"
      }
    },
    {
      "cell_type": "code",
      "source": [
        "import pandas as pd\n",
        "from tabulate import tabulate\n",
        "\n",
        "# Store results in a dictionary\n",
        "results = {\n",
        "    'Model': [],\n",
        "    'BoW Accuracy': [],\n",
        "    'TFIDF Accuracy': [],\n",
        "    'FastText Accuracy': [],\n",
        "    'Combined Features Accuracy': []\n",
        "}\n",
        "\n",
        "# Append results for each model\n",
        "for model_name, model in models.items():\n",
        "    # BoW Accuracy\n",
        "    model.fit(X_train_bow, y_train)\n",
        "    y_pred_bow = model.predict(X_test_bow)\n",
        "    bow_acc = accuracy_score(y_test, y_pred_bow)\n",
        "\n",
        "    # TFIDF Accuracy\n",
        "    model.fit(X_train_tfidf, y_train)\n",
        "    y_pred_tfidf = model.predict(X_test_tfidf)\n",
        "    tfidf_acc = accuracy_score(y_test, y_pred_tfidf)\n",
        "\n",
        "    # FastText Accuracy\n",
        "    model.fit(X_train_fasttext, y_train)\n",
        "    y_pred_fasttext = model.predict(X_test_fasttext)\n",
        "    fasttext_acc = accuracy_score(y_test, y_pred_fasttext)\n",
        "\n",
        "    # Combined Features Accuracy\n",
        "    model.fit(X_train_combined, y_train)\n",
        "    y_pred_combined = model.predict(X_test_combined)\n",
        "    combined_acc = accuracy_score(y_test, y_pred_combined)\n",
        "\n",
        "    # Append to the results\n",
        "    results['Model'].append(model_name)\n",
        "    results['BoW Accuracy'].append(round(bow_acc, 4))\n",
        "    results['TFIDF Accuracy'].append(round(tfidf_acc, 4))\n",
        "    results['FastText Accuracy'].append(round(fasttext_acc, 4))\n",
        "    results['Combined Features Accuracy'].append(round(combined_acc, 4))\n",
        "\n",
        "# Convert to DataFrame\n",
        "results_df = pd.DataFrame(results)\n",
        "\n",
        "# Display as a table\n",
        "print(tabulate(results_df, headers='keys', tablefmt='grid'))\n"
      ],
      "metadata": {
        "id": "3yTNrPlOD_1a",
        "colab": {
          "base_uri": "https://localhost:8080/"
        },
        "outputId": "211fa1de-b311-43f0-b840-add1d23834ea"
      },
      "execution_count": null,
      "outputs": [
        {
          "output_type": "stream",
          "name": "stdout",
          "text": [
            "+----+---------------------+----------------+------------------+---------------------+------------------------------+\n",
            "|    | Model               |   BoW Accuracy |   TFIDF Accuracy |   FastText Accuracy |   Combined Features Accuracy |\n",
            "+====+=====================+================+==================+=====================+==============================+\n",
            "|  0 | Random Forest       |              1 |                1 |                   1 |                        1     |\n",
            "+----+---------------------+----------------+------------------+---------------------+------------------------------+\n",
            "|  1 | SVM                 |              1 |                1 |                   1 |                        0.385 |\n",
            "+----+---------------------+----------------+------------------+---------------------+------------------------------+\n",
            "|  2 | Logistic Regression |              1 |                1 |                   1 |                        1     |\n",
            "+----+---------------------+----------------+------------------+---------------------+------------------------------+\n",
            "|  3 | KNN                 |              1 |                1 |                   1 |                        0.995 |\n",
            "+----+---------------------+----------------+------------------+---------------------+------------------------------+\n",
            "|  4 | Naive Bayes         |              1 |                1 |                   1 |                        1     |\n",
            "+----+---------------------+----------------+------------------+---------------------+------------------------------+\n"
          ]
        },
        {
          "output_type": "stream",
          "name": "stderr",
          "text": [
            "/usr/local/lib/python3.11/dist-packages/sklearn/linear_model/_logistic.py:465: ConvergenceWarning: lbfgs failed to converge (status=1):\n",
            "STOP: TOTAL NO. of ITERATIONS REACHED LIMIT.\n",
            "\n",
            "Increase the number of iterations (max_iter) or scale the data as shown in:\n",
            "    https://scikit-learn.org/stable/modules/preprocessing.html\n",
            "Please also refer to the documentation for alternative solver options:\n",
            "    https://scikit-learn.org/stable/modules/linear_model.html#logistic-regression\n",
            "  n_iter_i = _check_optimize_result(\n"
          ]
        }
      ]
    },
    {
      "cell_type": "markdown",
      "source": [
        "**8.Model Saving**"
      ],
      "metadata": {
        "id": "tctc3sQujfHh"
      }
    },
    {
      "cell_type": "code",
      "source": [
        "import joblib\n",
        "import numpy as np\n",
        "from scipy.sparse import hstack\n",
        "\n",
        "# Save the best model (RandomForest with combined features) for future use\n",
        "best_model = models[\"Random Forest\"]\n",
        "joblib.dump(best_model, 'text_classification_best_model.pkl')\n",
        "\n",
        "# Load and predict with the saved model\n",
        "loaded_model = joblib.load('text_classification_best_model.pkl')\n",
        "\n",
        "# Example: Make predictions on new input text\n",
        "new_text = [\"This is a new text sample to classify.\"]\n",
        "new_text_cleaned = [clean_text(text) for text in new_text]\n",
        "\n",
        "# Convert new text into feature vectors\n",
        "new_text_tfidf = tfidf_vectorizer.transform(new_text_cleaned)\n",
        "new_text_nlp = np.array([\n",
        "    [\n",
        "        len(text),  # Character count\n",
        "        len(text.split()),  # Word count\n",
        "        np.mean([len(w) for w in text.split()]) if len(text.split()) > 0 else 0,  # Avg word length\n",
        "        sum(1 for word in text.split() if word.lower() in stop_words),  # Stopword count\n",
        "        text.count('#')  # Hashtag count\n",
        "    ]\n",
        "    for text in new_text_cleaned\n",
        "])\n",
        "\n",
        "# Combine features\n",
        "new_text_combined = hstack([new_text_nlp, new_text_tfidf])\n",
        "\n",
        "# Predict using the trained model\n",
        "prediction = loaded_model.predict(new_text_combined)\n",
        "print(f'Prediction for new text: {prediction}')\n"
      ],
      "metadata": {
        "id": "xvEhBtoEEIBn",
        "colab": {
          "base_uri": "https://localhost:8080/"
        },
        "outputId": "91777e07-8666-4210-89fa-229703a390a5"
      },
      "execution_count": null,
      "outputs": [
        {
          "output_type": "stream",
          "name": "stdout",
          "text": [
            "Prediction for new text: ['Stock Market']\n"
          ]
        }
      ]
    },
    {
      "cell_type": "markdown",
      "source": [
        "**9.Comprehensive Model Accuracy Comparison Across Feature Extraction Techniques**\n",
        "\n",
        "\n",
        "\n",
        "\n",
        "\n",
        "\n",
        "\n"
      ],
      "metadata": {
        "id": "Ovk1J-HajtcZ"
      }
    },
    {
      "cell_type": "code",
      "source": [
        "import pandas as pd\n",
        "\n",
        "# Initialize a DataFrame to store model evaluation results\n",
        "results = []\n",
        "\n",
        "# Evaluate each model on different feature sets\n",
        "for model_name, model in models.items():\n",
        "    # NLP features only\n",
        "    model.fit(X_train, y_train)\n",
        "    y_pred = model.predict(X_test)\n",
        "    accuracy_nlp = accuracy_score(y_test, y_pred)\n",
        "\n",
        "    # BoW\n",
        "    model.fit(X_train_bow, y_train)\n",
        "    y_pred_bow = model.predict(X_test_bow)\n",
        "    accuracy_bow = accuracy_score(y_test, y_pred_bow)\n",
        "\n",
        "    # TF-IDF\n",
        "    model.fit(X_train_tfidf, y_train)\n",
        "    y_pred_tfidf = model.predict(X_test_tfidf)\n",
        "    accuracy_tfidf = accuracy_score(y_test, y_pred_tfidf)\n",
        "\n",
        "    # FastText embeddings\n",
        "    model.fit(X_train_fasttext, y_train)\n",
        "    y_pred_fasttext = model.predict(X_test_fasttext)\n",
        "    accuracy_fasttext = accuracy_score(y_test, y_pred_fasttext)\n",
        "\n",
        "    # Combined features\n",
        "    model.fit(X_train_combined, y_train)\n",
        "    y_pred_combined = model.predict(X_test_combined)\n",
        "    accuracy_combined = accuracy_score(y_test, y_pred_combined)\n",
        "\n",
        "    # Append results\n",
        "    results.append([\n",
        "        model_name,\n",
        "        accuracy_nlp,\n",
        "        accuracy_bow,\n",
        "        accuracy_tfidf,\n",
        "        accuracy_fasttext,\n",
        "        accuracy_combined\n",
        "    ])\n",
        "\n",
        "# Convert results to a DataFrame\n",
        "results_df = pd.DataFrame(results, columns=[\n",
        "    'Model', 'NLP Accuracy', 'BoW Accuracy', 'TF-IDF Accuracy', 'FastText Accuracy', 'Combined Accuracy'\n",
        "])\n",
        "\n",
        "# Display the results\n",
        "print(results_df)\n"
      ],
      "metadata": {
        "id": "f9xHE8NiEjCh",
        "colab": {
          "base_uri": "https://localhost:8080/"
        },
        "outputId": "e32275e1-088b-4624-8308-4c0fc2435431"
      },
      "execution_count": null,
      "outputs": [
        {
          "output_type": "stream",
          "name": "stderr",
          "text": [
            "/usr/local/lib/python3.11/dist-packages/sklearn/linear_model/_logistic.py:465: ConvergenceWarning: lbfgs failed to converge (status=1):\n",
            "STOP: TOTAL NO. of ITERATIONS REACHED LIMIT.\n",
            "\n",
            "Increase the number of iterations (max_iter) or scale the data as shown in:\n",
            "    https://scikit-learn.org/stable/modules/preprocessing.html\n",
            "Please also refer to the documentation for alternative solver options:\n",
            "    https://scikit-learn.org/stable/modules/linear_model.html#logistic-regression\n",
            "  n_iter_i = _check_optimize_result(\n"
          ]
        },
        {
          "output_type": "stream",
          "name": "stdout",
          "text": [
            "                 Model  NLP Accuracy  BoW Accuracy  TF-IDF Accuracy  \\\n",
            "0        Random Forest         0.955           1.0              1.0   \n",
            "1                  SVM         0.390           1.0              1.0   \n",
            "2  Logistic Regression         0.770           1.0              1.0   \n",
            "3                  KNN         0.955           1.0              1.0   \n",
            "4          Naive Bayes         0.355           1.0              1.0   \n",
            "\n",
            "   FastText Accuracy  Combined Accuracy  \n",
            "0                1.0              1.000  \n",
            "1                1.0              0.385  \n",
            "2                1.0              1.000  \n",
            "3                1.0              0.995  \n",
            "4                1.0              1.000  \n"
          ]
        },
        {
          "output_type": "stream",
          "name": "stderr",
          "text": [
            "/usr/local/lib/python3.11/dist-packages/sklearn/linear_model/_logistic.py:465: ConvergenceWarning: lbfgs failed to converge (status=1):\n",
            "STOP: TOTAL NO. of ITERATIONS REACHED LIMIT.\n",
            "\n",
            "Increase the number of iterations (max_iter) or scale the data as shown in:\n",
            "    https://scikit-learn.org/stable/modules/preprocessing.html\n",
            "Please also refer to the documentation for alternative solver options:\n",
            "    https://scikit-learn.org/stable/modules/linear_model.html#logistic-regression\n",
            "  n_iter_i = _check_optimize_result(\n"
          ]
        }
      ]
    },
    {
      "cell_type": "markdown",
      "source": [
        "**10.Model Deployment**"
      ],
      "metadata": {
        "id": "xzT3aEhRkR50"
      }
    },
    {
      "cell_type": "code",
      "source": [
        "import pandas as pd\n",
        "from sklearn.metrics import accuracy_score\n",
        "from tabulate import tabulate\n",
        "\n",
        "# ... (Your existing code for model training and data preparation) ...\n",
        "\n",
        "# Initialize accuracy variables for each model and feature set\n",
        "rf_accuracy = 0  # NLP Features\n",
        "rf_bow_accuracy = 0  # BoW\n",
        "rf_tfidf_accuracy = 0  # TFIDF\n",
        "rf_fasttext_accuracy = 0  # FastText\n",
        "rf_combined_accuracy = 0  # Combined Features\n",
        "\n",
        "svm_accuracy = 0  # NLP Features\n",
        "svm_bow_accuracy = 0  # BoW\n",
        "svm_tfidf_accuracy = 0  # TFIDF\n",
        "svm_fasttext_accuracy = 0  # FastText\n",
        "svm_combined_accuracy = 0  # Combined Features\n",
        "\n",
        "# Initialize accuracy variables for Logistic Regression\n",
        "lr_accuracy = 0  # NLP Features\n",
        "lr_bow_accuracy = 0  # BoW\n",
        "lr_tfidf_accuracy = 0  # TFIDF\n",
        "lr_fasttext_accuracy = 0  # FastText\n",
        "lr_combined_accuracy = 0  # Combined Features\n",
        "\n",
        "# Initialize accuracy variables for KNN\n",
        "knn_accuracy = 0  # NLP Features\n",
        "knn_bow_accuracy = 0  # BoW\n",
        "knn_tfidf_accuracy = 0  # TFIDF\n",
        "knn_fasttext_accuracy = 0  # FastText\n",
        "knn_combined_accuracy = 0  # Combined Features\n",
        "\n",
        "# Initialize accuracy variables for Naive Bayes\n",
        "nb_accuracy = 0  # NLP Features\n",
        "nb_bow_accuracy = 0  # BoW\n",
        "nb_tfidf_accuracy = 0  # TFIDF\n",
        "nb_fasttext_accuracy = 0  # FastText\n",
        "nb_combined_accuracy = 0  # Combined Features\n",
        "\n",
        "\n",
        "# Calculate accuracy for each model and feature set\n",
        "for model_name, model in models.items():\n",
        "    if model_name == \"Random Forest\":\n",
        "        # NLP features only\n",
        "        model.fit(X_train, y_train)\n",
        "        y_pred = model.predict(X_test)\n",
        "        rf_accuracy = accuracy_score(y_test, y_pred)\n",
        "\n",
        "        # BoW\n",
        "        model.fit(X_train_bow, y_train)\n",
        "        y_pred_bow = model.predict(X_test_bow)\n",
        "        rf_bow_accuracy = accuracy_score(y_test, y_pred_bow)\n",
        "\n",
        "        # ... (Similarly for TFIDF, FastText, and Combined Features) ...\n",
        "    elif model_name == \"SVM\":\n",
        "        # NLP features only\n",
        "        model.fit(X_train, y_train)\n",
        "        y_pred = model.predict(X_test)\n",
        "        svm_accuracy = accuracy_score(y_test, y_pred)\n",
        "\n",
        "        # ... (Similarly for BoW, TFIDF, FastText, and Combined Features) ...\n",
        "    elif model_name == \"Logistic Regression\":\n",
        "        # NLP features only\n",
        "        model.fit(X_train, y_train)\n",
        "        y_pred = model.predict(X_test)\n",
        "        lr_accuracy = accuracy_score(y_test, y_pred)\n",
        "\n",
        "        # BoW\n",
        "        model.fit(X_train_bow, y_train)\n",
        "        y_pred_bow = model.predict(X_test_bow)\n",
        "        lr_bow_accuracy = accuracy_score(y_test, y_pred_bow)\n",
        "\n",
        "        # ... (Similarly for TFIDF, FastText, and Combined Features) ...\n",
        "    elif model_name == \"KNN\":\n",
        "        # NLP features only\n",
        "        model.fit(X_train, y_train)\n",
        "        y_pred = model.predict(X_test)\n",
        "        knn_accuracy = accuracy_score(y_test, y_pred)\n",
        "\n",
        "        # BoW\n",
        "        model.fit(X_train_bow, y_train)\n",
        "        y_pred_bow = model.predict(X_test_bow)\n",
        "        knn_bow_accuracy = accuracy_score(y_test, y_pred_bow)\n",
        "        # ... (Similarly for TFIDF, FastText, and Combined Features) ...\n",
        "\n",
        "    elif model_name == \"Naive Bayes\":\n",
        "        # NLP features only\n",
        "        model.fit(X_train, y_train)\n",
        "        y_pred = model.predict(X_test)\n",
        "        nb_accuracy = accuracy_score(y_test, y_pred)\n",
        "\n",
        "        # BoW\n",
        "        model.fit(X_train_bow, y_train)\n",
        "        y_pred_bow = model.predict(X_test_bow)\n",
        "        nb_bow_accuracy = accuracy_score(y_test, y_pred_bow)\n",
        "\n",
        "        # ... (Similarly for TFIDF, FastText, and Combined Features) ...\n",
        "\n",
        "\n",
        "\n",
        "# Model evaluation results\n",
        "results = [\n",
        "    [\"Random Forest\", rf_accuracy, rf_bow_accuracy, rf_tfidf_accuracy, rf_fasttext_accuracy, rf_combined_accuracy],\n",
        "    [\"SVM\", svm_accuracy, svm_bow_accuracy, svm_tfidf_accuracy, svm_fasttext_accuracy, svm_combined_accuracy],\n",
        "    [\"Logistic Regression\", lr_accuracy, lr_bow_accuracy, lr_tfidf_accuracy, lr_fasttext_accuracy, lr_combined_accuracy],\n",
        "    [\"KNN\", knn_accuracy, knn_bow_accuracy, knn_tfidf_accuracy, knn_fasttext_accuracy, knn_combined_accuracy],\n",
        "    [\"Naive Bayes\", nb_accuracy, nb_bow_accuracy, nb_tfidf_accuracy, nb_fasttext_accuracy, nb_combined_accuracy]\n",
        "]\n",
        "\n",
        "# Create a DataFrame for visualization\n",
        "results_df = pd.DataFrame(results, columns=[\"Model\", \"NLP Features\", \"BoW\", \"TFIDF\", \"FastText\", \"Combined Features\"])\n",
        "\n",
        "# Display the table\n",
        "print(\"Model Evaluation Results:\")\n",
        "print(results_df)\n",
        "\n",
        "# Display as a table using tabulate\n",
        "print(tabulate(results_df, headers='keys', tablefmt='grid'))\n",
        "\n",
        "# Highlight the best model (Random Forest) in bold\n",
        "print(\"\\n**Best Model: Random Forest**\")  # Print in bold\n",
        "\n",
        "# Predict using the best model (Random Forest) with BoW features\n",
        "# ... (Your existing prediction code) ..."
      ],
      "metadata": {
        "id": "LQhUWYdEaia-",
        "colab": {
          "base_uri": "https://localhost:8080/"
        },
        "outputId": "3a76a1ac-4247-474b-a3b0-667d8715fbfe"
      },
      "execution_count": null,
      "outputs": [
        {
          "output_type": "stream",
          "name": "stdout",
          "text": [
            "Model Evaluation Results:\n",
            "                 Model  NLP Features  BoW  TFIDF  FastText  Combined Features\n",
            "0        Random Forest         0.955  1.0      0         0                  0\n",
            "1                  SVM         0.390  0.0      0         0                  0\n",
            "2  Logistic Regression         0.770  1.0      0         0                  0\n",
            "3                  KNN         0.955  1.0      0         0                  0\n",
            "4          Naive Bayes         0.355  1.0      0         0                  0\n",
            "+----+---------------------+----------------+-------+---------+------------+---------------------+\n",
            "|    | Model               |   NLP Features |   BoW |   TFIDF |   FastText |   Combined Features |\n",
            "+====+=====================+================+=======+=========+============+=====================+\n",
            "|  0 | Random Forest       |          0.955 |     1 |       0 |          0 |                   0 |\n",
            "+----+---------------------+----------------+-------+---------+------------+---------------------+\n",
            "|  1 | SVM                 |          0.39  |     0 |       0 |          0 |                   0 |\n",
            "+----+---------------------+----------------+-------+---------+------------+---------------------+\n",
            "|  2 | Logistic Regression |          0.77  |     1 |       0 |          0 |                   0 |\n",
            "+----+---------------------+----------------+-------+---------+------------+---------------------+\n",
            "|  3 | KNN                 |          0.955 |     1 |       0 |          0 |                   0 |\n",
            "+----+---------------------+----------------+-------+---------+------------+---------------------+\n",
            "|  4 | Naive Bayes         |          0.355 |     1 |       0 |          0 |                   0 |\n",
            "+----+---------------------+----------------+-------+---------+------------+---------------------+\n",
            "\n",
            "**Best Model: Random Forest**\n"
          ]
        },
        {
          "output_type": "stream",
          "name": "stderr",
          "text": [
            "/usr/local/lib/python3.11/dist-packages/sklearn/linear_model/_logistic.py:465: ConvergenceWarning: lbfgs failed to converge (status=1):\n",
            "STOP: TOTAL NO. of ITERATIONS REACHED LIMIT.\n",
            "\n",
            "Increase the number of iterations (max_iter) or scale the data as shown in:\n",
            "    https://scikit-learn.org/stable/modules/preprocessing.html\n",
            "Please also refer to the documentation for alternative solver options:\n",
            "    https://scikit-learn.org/stable/modules/linear_model.html#logistic-regression\n",
            "  n_iter_i = _check_optimize_result(\n"
          ]
        }
      ]
    }
  ]
}